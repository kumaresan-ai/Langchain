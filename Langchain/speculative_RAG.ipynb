{
 "cells": [
  {
   "cell_type": "code",
   "execution_count": null,
   "id": "52407894",
   "metadata": {},
   "outputs": [],
   "source": [
    "from langchain.chat_models import ChatOpenAI\n",
    "from langchain.chains import RetrievalQA\n",
    "from langchain.vectorstores import FAISS\n",
    "from langchain.embeddings.openai import OpenAIEmbeddings\n",
    "from langchain.document_loaders import TextLoader\n",
    "from langchain.text_splitter import CharacterTextSplitter\n",
    "\n",
    "# Load documents\n",
    "loader = TextLoader(\"my_notes.txt\")\n",
    "docs = loader.load()\n",
    "\n",
    "# Split into chunks\n",
    "splitter = CharacterTextSplitter(chunk_size=500, chunk_overlap=50)\n",
    "chunks = splitter.split_documents(docs)\n",
    "\n",
    "# Create embeddings and store in FAISS\n",
    "embeddings = OpenAIEmbeddings(openai_api_key=\"your_api_key_here\")\n",
    "vectorstore = FAISS.from_documents(chunks, embeddings)\n",
    "\n",
    "# Build retriever and LLM\n",
    "retriever = vectorstore.as_retriever()\n",
    "llm = ChatOpenAI(temperature=0, openai_api_key=\"your_api_key_here\")\n",
    "\n",
    "# Retrieval QA chain\n",
    "qa = RetrievalQA.from_chain_type(llm=llm, retriever=retriever)\n",
    "\n",
    "def speculative_rag(question):\n",
    "\n",
    "    guess_prompt = PromptTemplate.from_template(\"Extract keyword for: {question}\")\n",
    "    guess_chain = LLMChain(llm=llm, prompt=guess_prompt)\n",
    "    keyword = guess_chain.run(question)\n",
    "\n",
    "    docs = [Document(page_content = \"Elephant is the largest animal in the land.\")]\n",
    "    db = FAISS.from_documents(docs, embeddings)\n",
    "\n",
    "    retriever = db.as_retriever(search_kwargs={\"k\": 1})\n",
    "    qa_chain = RetrievalQA.from_chain_type(llm=llm, retriever=retriever)\n",
    "\n",
    "    return qa_chain.run(f\"What do you know about {keyword}?\")\n",
    "\n",
    "print(speculative_rag(\"Who is the largest land animal?\"))"
   ]
  }
 ],
 "metadata": {
  "language_info": {
   "name": "python"
  }
 },
 "nbformat": 4,
 "nbformat_minor": 5
}
