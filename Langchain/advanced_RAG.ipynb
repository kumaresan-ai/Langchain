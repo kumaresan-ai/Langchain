{
 "cells": [
  {
   "cell_type": "code",
   "execution_count": null,
   "id": "2ff08040",
   "metadata": {},
   "outputs": [],
   "source": [
    "from langchain.chat_models import ChatOpenAI\n",
    "from langchain.chains import RetrievalQA\n",
    "from langchain.vectorstores import FAISS\n",
    "from langchain.embeddings.openai import OpenAIEmbeddings\n",
    "from langchain.document_loaders import TextLoader\n",
    "from langchain.text_splitter import CharacterTextSplitter\n",
    "\n",
    "# Load documents\n",
    "loader = TextLoader(\"my_notes.txt\")\n",
    "docs = loader.load()\n",
    "\n",
    "# Split into chunks\n",
    "splitter = CharacterTextSplitter(chunk_size=500, chunk_overlap=50)\n",
    "chunks = splitter.split_documents(docs)\n",
    "\n",
    "# Create embeddings and store in FAISS\n",
    "embeddings = OpenAIEmbeddings(openai_api_key=\"your_api_key_here\")\n",
    "vectorstore = FAISS.from_documents(chunks, embeddings)\n",
    "\n",
    "# Build retriever and LLM\n",
    "retriever = vectorstore.as_retriever()\n",
    "llm = ChatOpenAI(temperature=0, openai_api_key=\"your_api_key_here\")\n",
    "\n",
    "# Retrieval QA chain\n",
    "qa = RetrievalQA.from_chain_type(llm=llm, retriever=retriever)\n",
    "\n",
    "def advanced_rag(question):\n",
    "    guess_topic = llm.predict(f\"What is the main topic of: {question}?\")\n",
    "\n",
    "    docs = [\n",
    "        Document(page_content=\"Mercury is the closest planet to the sun.\"),\n",
    "        Document(page_content=\"Venus is the second planet.\"),\n",
    "        Document(page_content=\"Earth is our home.\"),\n",
    "        Document(page_content=\"Mars is the red planet.\")\n",
    "    ]\n",
    "\n",
    "    db = FAISS.from_documents(docs, embedding)\n",
    "\n",
    "    qa_chain = RetrievalQA.from_chain_type(llm=llm, retriever=db.as_retriever())\n",
    "    result = qa_chain.run(question)\n",
    "\n",
    "    return f\"Topic: {guess_topic}\\nAnswer: {result}\"\n",
    "\n",
    "\n",
    "print(advanced_rag(\"Tell me about the planets in the solar system.\"))\n",
    "\n"
   ]
  }
 ],
 "metadata": {
  "language_info": {
   "name": "python"
  }
 },
 "nbformat": 4,
 "nbformat_minor": 5
}
