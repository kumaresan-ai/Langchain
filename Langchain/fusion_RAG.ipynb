{
 "cells": [
  {
   "cell_type": "code",
   "execution_count": null,
   "id": "a0cc2212",
   "metadata": {},
   "outputs": [],
   "source": [
    "from langchain.chains import RetrievalQA\n",
    "from langchain.vectorstores import FAISS\n",
    "from langchain.embeddings.openai import OpenAIEmbeddings\n",
    "from langchain.docstore.document import Document\n",
    "\n",
    "docs = [\n",
    "    Document(page_content=\"The sun is a star.\"),\n",
    "    Document(page_content=\"The sun provides heat and light.\"),\n",
    "    Document(page_content=\"It rises in the east.\")\n",
    "]\n",
    "\n",
    "embedding = OpenAIEmbeddings()\n",
    "db = FAISS.from_documents(docs, embedding)\n",
    "\n",
    "fusion_rag_chain = RetrievalQA.from_chain_type(\n",
    "    llm=llm,\n",
    "    retriever=db.as_retriever(),\n",
    "    return_source_documents=False\n",
    ")\n",
    "\n",
    "print(fusion_rag_chain.run(\"Tell me about the sun.\"))\n"
   ]
  }
 ],
 "metadata": {
  "language_info": {
   "name": "python"
  }
 },
 "nbformat": 4,
 "nbformat_minor": 5
}
